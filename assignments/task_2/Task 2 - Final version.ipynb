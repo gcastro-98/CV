{
 "cells": [
  {
   "cell_type": "markdown",
   "id": "3b58db1f",
   "metadata": {
    "id": "dG2MLbQvZy9h",
    "papermill": {
     "duration": 0.008801,
     "end_time": "2023-03-13T07:57:00.864454",
     "exception": false,
     "start_time": "2023-03-13T07:57:00.855653",
     "status": "completed"
    },
    "tags": []
   },
   "source": [
    "# **The Problem: Automatic Apparent Age Estimation**\n",
    "Author: Gerard Castro & Àlex Pujol\n",
    "\n",
    "Last modified: Mar 14, 2023.\n",
    "\n",
    "---\n",
    "\n"
   ]
  },
  {
   "cell_type": "markdown",
   "id": "94ed1402",
   "metadata": {
    "id": "BXQZXojAxGJc",
    "papermill": {
     "duration": 0.007255,
     "end_time": "2023-03-13T07:57:00.879677",
     "exception": false,
     "start_time": "2023-03-13T07:57:00.872422",
     "status": "completed"
    },
    "tags": []
   },
   "source": [
    "---\n",
    "---\n",
    "############### **Bias mitigation strategies** ###############\n",
    "---\n",
    "---\n",
    "---\n",
    "\n",
    "# Accuracy is not enough! We also need to evaluate how biased is our model!\n",
    "- Next, we define different different functions, used to compute a bias score given different attributes.\n",
    "  - Age bias (4 sub-groups)\n",
    "  - Gender bias (2 sub-groups) \n",
    "  - Ethnicity bias (3 sub-groups)\n",
    "  - Facial Expression bias (4 sub-groups)\n",
    "- In a nutshell, given a particular attribute $A$, we compute the Mean Absolute Error $E_n$ for its $N$ sub-groups. We illustrate this process for the case of **Age** next:\n",
    "- Consider we have 4 sub-groups base on different age ranges (i.e., \"0-19\", \"20-39\", \"40-59\", and \"60-100\"). We will have one error value per sub-group: $E_1$, $E_2$, $E_3$ and $E_4$.\n",
    "- Then, we compute the absolute difference among them all. Consider $D$ is a squared matrix where each element $(i,j)$ is the absolute difference between $E_i$ and $E_j$. Then we can retrieve:\n",
    "  - $D_{2,1} = |E_1-E_2|$\n",
    "  - $D_{3,1} = |E_1-E_3|$\n",
    "  - $D_{4,1} = |E_1-E_4|$\n",
    "  - $D_{3,2} = |E_2-E_3|$\n",
    "  - $D_{4,2} = |E_2-E_4|$\n",
    "  - $D_{4,3} = |E_3-E_4|$\n",
    "\n",
    "- The Final Bias score $B_A$ for attribute $A$ is obtained by the Average of the computed differences. That is:\n",
    "  - $B_A = \\frac{(D_{2,1} + D_{3,1} + D_{4,1} + D_{3,2} + D_{4,2} + D_{4,3})}{6}$\n",
    "  - In other words: \n",
    "\n",
    "   $B_A = \\frac{1}{(N^2-N)/2}\\sum_{i=1}^{N} \\sum_{j=1}^{N} |E_i - E_j|, \\forall i,j \\in \\mathbb{N}^*, \\text{if } i < j$\n",
    "\n",
    "- To minimize your bias score, given a particular attribute, you will need to minimize the absolute difference among the different sub-groups being evaluated. That is, part of your goal will be to make the $N$ sub-groups of each attribute $A$ to have similar errors $E_n$\n",
    "- The big challenge here is to minimize **ALL** bias scores (i.e., age, gender, ethnicity and face expression).\n",
    "- Next, we briefly detail the different attributes (and their sub-groups) where the bias scores are evaluated."
   ]
  },
  {
   "cell_type": "markdown",
   "id": "6363b902",
   "metadata": {
    "id": "TlPY4wbeUr_7",
    "papermill": {
     "duration": 0.007426,
     "end_time": "2023-03-13T07:57:00.894869",
     "exception": false,
     "start_time": "2023-03-13T07:57:00.887443",
     "status": "completed"
    },
    "tags": []
   },
   "source": [
    "---\n",
    "# Age Bias ($B_a$) \n",
    "\n",
    "- Evaluates how accurate the model is with respect to different age ranges.\n",
    "  - sub-group 1: age < 20\n",
    "  - sub-group 2: 20 <= age < 40\n",
    "  - sub-group 3: 40 <= age < 60\n",
    "  - sub-group 4: 60 <= age\n",
    "\n"
   ]
  },
  {
   "cell_type": "markdown",
   "id": "1b406704",
   "metadata": {
    "id": "ALWjE5J8edq7",
    "papermill": {
     "duration": 0.007585,
     "end_time": "2023-03-13T07:57:00.910156",
     "exception": false,
     "start_time": "2023-03-13T07:57:00.902571",
     "status": "completed"
    },
    "tags": []
   },
   "source": [
    "# Gender Bias ($B_g$) \n",
    "- Evaluates how accurate the model is with respect to different gender.\n",
    "  - sub-group 1: male\n",
    "  - sub-group 2: female\n"
   ]
  },
  {
   "cell_type": "markdown",
   "id": "49b1259a",
   "metadata": {
    "id": "W8rIPUIrjkDG",
    "papermill": {
     "duration": 0.00775,
     "end_time": "2023-03-13T07:57:00.925511",
     "exception": false,
     "start_time": "2023-03-13T07:57:00.917761",
     "status": "completed"
    },
    "tags": []
   },
   "source": [
    "# Ethnicity Bias ($B_e$)\n",
    "- Evaluates how accurate the model is with respect to different ethnicity categories.\n",
    "  - sub-group 1: asian\n",
    "  - sub-group 2: afroamerican\n",
    "  - sub-group 3: caucasian\n"
   ]
  },
  {
   "cell_type": "markdown",
   "id": "d60e3b2f",
   "metadata": {
    "id": "ohPkAMvxm9Ed",
    "papermill": {
     "duration": 0.007688,
     "end_time": "2023-03-13T07:57:00.941754",
     "exception": false,
     "start_time": "2023-03-13T07:57:00.934066",
     "status": "completed"
    },
    "tags": []
   },
   "source": [
    "# Face expression bias ($B_f$)\n",
    "- Evaluates how accurate the model is with respect to different face expression categories.\n",
    "  - sub-group 1: neutral\n",
    "  - sub-group 2: slightlyhappy\n",
    "  - sub-group 3: happy\n",
    "  - sub-group 4: other\n"
   ]
  },
  {
   "cell_type": "markdown",
   "id": "d2908ba6",
   "metadata": {
    "id": "xjkJNXGilNfo",
    "papermill": {
     "duration": 0.00785,
     "end_time": "2023-03-13T07:57:00.957480",
     "exception": false,
     "start_time": "2023-03-13T07:57:00.949630",
     "status": "completed"
    },
    "tags": []
   },
   "source": [
    "---\n",
    "---\n",
    "########### **Bias Mitigation (strategy 2)** ##############\n",
    "---\n",
    "---\n",
    "---\n",
    "# Strategies to improve Accuracy (i.e., to reduce the Error):\n",
    "# **2) Custom Loss:** sample weights to deal with inbalanced categories\n",
    "- Next, we will created a \"customized loss\", which gives more weight to people having less samples in train data. For this simple example, **we will consider the age range only**. This way, we believe the model will be able to generalize a little bit better to those particular groups. Note that you are expect to build a more strong strategy, aiming to mitigate the bias with respect to all categories."
   ]
  },
  {
   "cell_type": "code",
   "execution_count": 1,
   "id": "198ce9cf",
   "metadata": {
    "execution": {
     "iopub.execute_input": "2023-03-13T07:57:00.975806Z",
     "iopub.status.busy": "2023-03-13T07:57:00.974982Z",
     "iopub.status.idle": "2023-03-13T07:59:04.253891Z",
     "shell.execute_reply": "2023-03-13T07:59:04.252680Z"
    },
    "papermill": {
     "duration": 123.291117,
     "end_time": "2023-03-13T07:59:04.256705",
     "exception": false,
     "start_time": "2023-03-13T07:57:00.965588",
     "status": "completed"
    },
    "tags": []
   },
   "outputs": [
    {
     "name": "stdout",
     "output_type": "stream",
     "text": [
      "Collecting tensorflow==2.8.2\r\n",
      "  Downloading tensorflow-2.8.2-cp37-cp37m-manylinux2010_x86_64.whl (497.9 MB)\r\n",
      "\u001b[2K     \u001b[90m━━━━━━━━━━━━━━━━━━━━━━━━━━━━━━━━━━━━━━━\u001b[0m \u001b[32m497.9/497.9 MB\u001b[0m \u001b[31m2.5 MB/s\u001b[0m eta \u001b[36m0:00:00\u001b[0m\r\n",
      "\u001b[?25hRequirement already satisfied: setuptools in /opt/conda/lib/python3.7/site-packages (from tensorflow==2.8.2) (59.8.0)\r\n",
      "Collecting tensorboard<2.9,>=2.8\r\n",
      "  Downloading tensorboard-2.8.0-py3-none-any.whl (5.8 MB)\r\n",
      "\u001b[2K     \u001b[90m━━━━━━━━━━━━━━━━━━━━━━━━━━━━━━━━━━━━━━━━\u001b[0m \u001b[32m5.8/5.8 MB\u001b[0m \u001b[31m74.0 MB/s\u001b[0m eta \u001b[36m0:00:00\u001b[0m\r\n",
      "\u001b[?25hRequirement already satisfied: grpcio<2.0,>=1.24.3 in /opt/conda/lib/python3.7/site-packages (from tensorflow==2.8.2) (1.51.1)\r\n",
      "Collecting keras<2.9,>=2.8.0rc0\r\n",
      "  Downloading keras-2.8.0-py2.py3-none-any.whl (1.4 MB)\r\n",
      "\u001b[2K     \u001b[90m━━━━━━━━━━━━━━━━━━━━━━━━━━━━━━━━━━━━━━━━\u001b[0m \u001b[32m1.4/1.4 MB\u001b[0m \u001b[31m55.5 MB/s\u001b[0m eta \u001b[36m0:00:00\u001b[0m\r\n",
      "\u001b[?25hRequirement already satisfied: tensorflow-io-gcs-filesystem>=0.23.1 in /opt/conda/lib/python3.7/site-packages (from tensorflow==2.8.2) (0.29.0)\r\n",
      "Requirement already satisfied: gast>=0.2.1 in /opt/conda/lib/python3.7/site-packages (from tensorflow==2.8.2) (0.4.0)\r\n",
      "Collecting protobuf<3.20,>=3.9.2\r\n",
      "  Downloading protobuf-3.19.6-cp37-cp37m-manylinux_2_17_x86_64.manylinux2014_x86_64.whl (1.1 MB)\r\n",
      "\u001b[2K     \u001b[90m━━━━━━━━━━━━━━━━━━━━━━━━━━━━━━━━━━━━━━━━\u001b[0m \u001b[32m1.1/1.1 MB\u001b[0m \u001b[31m54.6 MB/s\u001b[0m eta \u001b[36m0:00:00\u001b[0m\r\n",
      "\u001b[?25hRequirement already satisfied: opt-einsum>=2.3.2 in /opt/conda/lib/python3.7/site-packages (from tensorflow==2.8.2) (3.3.0)\r\n",
      "Collecting tensorflow-estimator<2.9,>=2.8\r\n",
      "  Downloading tensorflow_estimator-2.8.0-py2.py3-none-any.whl (462 kB)\r\n",
      "\u001b[2K     \u001b[90m━━━━━━━━━━━━━━━━━━━━━━━━━━━━━━━━━━━━━━\u001b[0m \u001b[32m462.3/462.3 kB\u001b[0m \u001b[31m27.4 MB/s\u001b[0m eta \u001b[36m0:00:00\u001b[0m\r\n",
      "\u001b[?25hRequirement already satisfied: h5py>=2.9.0 in /opt/conda/lib/python3.7/site-packages (from tensorflow==2.8.2) (3.8.0)\r\n",
      "Requirement already satisfied: six>=1.12.0 in /opt/conda/lib/python3.7/site-packages (from tensorflow==2.8.2) (1.16.0)\r\n",
      "Collecting keras-preprocessing>=1.1.1\r\n",
      "  Downloading Keras_Preprocessing-1.1.2-py2.py3-none-any.whl (42 kB)\r\n",
      "\u001b[2K     \u001b[90m━━━━━━━━━━━━━━━━━━━━━━━━━━━━━━━━━━━━━━━━\u001b[0m \u001b[32m42.6/42.6 kB\u001b[0m \u001b[31m3.0 MB/s\u001b[0m eta \u001b[36m0:00:00\u001b[0m\r\n",
      "\u001b[?25hRequirement already satisfied: google-pasta>=0.1.1 in /opt/conda/lib/python3.7/site-packages (from tensorflow==2.8.2) (0.2.0)\r\n",
      "Requirement already satisfied: astunparse>=1.6.0 in /opt/conda/lib/python3.7/site-packages (from tensorflow==2.8.2) (1.6.3)\r\n",
      "Requirement already satisfied: absl-py>=0.4.0 in /opt/conda/lib/python3.7/site-packages (from tensorflow==2.8.2) (1.4.0)\r\n",
      "Requirement already satisfied: termcolor>=1.1.0 in /opt/conda/lib/python3.7/site-packages (from tensorflow==2.8.2) (2.2.0)\r\n",
      "Requirement already satisfied: numpy>=1.20 in /opt/conda/lib/python3.7/site-packages (from tensorflow==2.8.2) (1.21.6)\r\n",
      "Requirement already satisfied: flatbuffers>=1.12 in /opt/conda/lib/python3.7/site-packages (from tensorflow==2.8.2) (23.1.21)\r\n",
      "Requirement already satisfied: libclang>=9.0.1 in /opt/conda/lib/python3.7/site-packages (from tensorflow==2.8.2) (15.0.6.1)\r\n",
      "Requirement already satisfied: typing-extensions>=3.6.6 in /opt/conda/lib/python3.7/site-packages (from tensorflow==2.8.2) (4.4.0)\r\n",
      "Requirement already satisfied: wrapt>=1.11.0 in /opt/conda/lib/python3.7/site-packages (from tensorflow==2.8.2) (1.14.1)\r\n",
      "Requirement already satisfied: wheel<1.0,>=0.23.0 in /opt/conda/lib/python3.7/site-packages (from astunparse>=1.6.0->tensorflow==2.8.2) (0.38.4)\r\n",
      "Requirement already satisfied: werkzeug>=0.11.15 in /opt/conda/lib/python3.7/site-packages (from tensorboard<2.9,>=2.8->tensorflow==2.8.2) (2.2.3)\r\n",
      "Requirement already satisfied: tensorboard-plugin-wit>=1.6.0 in /opt/conda/lib/python3.7/site-packages (from tensorboard<2.9,>=2.8->tensorflow==2.8.2) (1.8.1)\r\n",
      "Requirement already satisfied: markdown>=2.6.8 in /opt/conda/lib/python3.7/site-packages (from tensorboard<2.9,>=2.8->tensorflow==2.8.2) (3.4.1)\r\n",
      "Requirement already satisfied: tensorboard-data-server<0.7.0,>=0.6.0 in /opt/conda/lib/python3.7/site-packages (from tensorboard<2.9,>=2.8->tensorflow==2.8.2) (0.6.1)\r\n",
      "Requirement already satisfied: google-auth-oauthlib<0.5,>=0.4.1 in /opt/conda/lib/python3.7/site-packages (from tensorboard<2.9,>=2.8->tensorflow==2.8.2) (0.4.6)\r\n",
      "Requirement already satisfied: requests<3,>=2.21.0 in /opt/conda/lib/python3.7/site-packages (from tensorboard<2.9,>=2.8->tensorflow==2.8.2) (2.28.2)\r\n",
      "Requirement already satisfied: google-auth<3,>=1.6.3 in /opt/conda/lib/python3.7/site-packages (from tensorboard<2.9,>=2.8->tensorflow==2.8.2) (1.35.0)\r\n",
      "Requirement already satisfied: pyasn1-modules>=0.2.1 in /opt/conda/lib/python3.7/site-packages (from google-auth<3,>=1.6.3->tensorboard<2.9,>=2.8->tensorflow==2.8.2) (0.2.8)\r\n",
      "Requirement already satisfied: rsa<5,>=3.1.4 in /opt/conda/lib/python3.7/site-packages (from google-auth<3,>=1.6.3->tensorboard<2.9,>=2.8->tensorflow==2.8.2) (4.9)\r\n",
      "Requirement already satisfied: cachetools<5.0,>=2.0.0 in /opt/conda/lib/python3.7/site-packages (from google-auth<3,>=1.6.3->tensorboard<2.9,>=2.8->tensorflow==2.8.2) (4.2.4)\r\n",
      "Requirement already satisfied: requests-oauthlib>=0.7.0 in /opt/conda/lib/python3.7/site-packages (from google-auth-oauthlib<0.5,>=0.4.1->tensorboard<2.9,>=2.8->tensorflow==2.8.2) (1.3.1)\r\n",
      "Requirement already satisfied: importlib-metadata>=4.4 in /opt/conda/lib/python3.7/site-packages (from markdown>=2.6.8->tensorboard<2.9,>=2.8->tensorflow==2.8.2) (4.11.4)\r\n",
      "Requirement already satisfied: charset-normalizer<4,>=2 in /opt/conda/lib/python3.7/site-packages (from requests<3,>=2.21.0->tensorboard<2.9,>=2.8->tensorflow==2.8.2) (2.1.1)\r\n",
      "Requirement already satisfied: urllib3<1.27,>=1.21.1 in /opt/conda/lib/python3.7/site-packages (from requests<3,>=2.21.0->tensorboard<2.9,>=2.8->tensorflow==2.8.2) (1.26.14)\r\n",
      "Requirement already satisfied: idna<4,>=2.5 in /opt/conda/lib/python3.7/site-packages (from requests<3,>=2.21.0->tensorboard<2.9,>=2.8->tensorflow==2.8.2) (3.4)\r\n",
      "Requirement already satisfied: certifi>=2017.4.17 in /opt/conda/lib/python3.7/site-packages (from requests<3,>=2.21.0->tensorboard<2.9,>=2.8->tensorflow==2.8.2) (2022.12.7)\r\n",
      "Requirement already satisfied: MarkupSafe>=2.1.1 in /opt/conda/lib/python3.7/site-packages (from werkzeug>=0.11.15->tensorboard<2.9,>=2.8->tensorflow==2.8.2) (2.1.1)\r\n",
      "Requirement already satisfied: zipp>=0.5 in /opt/conda/lib/python3.7/site-packages (from importlib-metadata>=4.4->markdown>=2.6.8->tensorboard<2.9,>=2.8->tensorflow==2.8.2) (3.11.0)\r\n",
      "Requirement already satisfied: pyasn1<0.5.0,>=0.4.6 in /opt/conda/lib/python3.7/site-packages (from pyasn1-modules>=0.2.1->google-auth<3,>=1.6.3->tensorboard<2.9,>=2.8->tensorflow==2.8.2) (0.4.8)\r\n",
      "Requirement already satisfied: oauthlib>=3.0.0 in /opt/conda/lib/python3.7/site-packages (from requests-oauthlib>=0.7.0->google-auth-oauthlib<0.5,>=0.4.1->tensorboard<2.9,>=2.8->tensorflow==2.8.2) (3.2.2)\r\n",
      "Installing collected packages: tensorflow-estimator, keras, protobuf, keras-preprocessing, tensorboard, tensorflow\r\n",
      "  Attempting uninstall: tensorflow-estimator\r\n",
      "    Found existing installation: tensorflow-estimator 2.11.0\r\n",
      "    Uninstalling tensorflow-estimator-2.11.0:\r\n",
      "      Successfully uninstalled tensorflow-estimator-2.11.0\r\n",
      "  Attempting uninstall: keras\r\n",
      "    Found existing installation: keras 2.11.0\r\n",
      "    Uninstalling keras-2.11.0:\r\n",
      "      Successfully uninstalled keras-2.11.0\r\n",
      "  Attempting uninstall: protobuf\r\n",
      "    Found existing installation: protobuf 3.20.3\r\n",
      "    Uninstalling protobuf-3.20.3:\r\n",
      "      Successfully uninstalled protobuf-3.20.3\r\n",
      "  Attempting uninstall: tensorboard\r\n",
      "    Found existing installation: tensorboard 2.11.2\r\n",
      "    Uninstalling tensorboard-2.11.2:\r\n",
      "      Successfully uninstalled tensorboard-2.11.2\r\n",
      "  Attempting uninstall: tensorflow\r\n",
      "    Found existing installation: tensorflow 2.11.0\r\n",
      "    Uninstalling tensorflow-2.11.0:\r\n",
      "      Successfully uninstalled tensorflow-2.11.0\r\n",
      "\u001b[31mERROR: pip's dependency resolver does not currently take into account all the packages that are installed. This behaviour is the source of the following dependency conflicts.\r\n",
      "cudf 21.12.2 requires cupy-cuda115, which is not installed.\r\n",
      "tfx-bsl 1.12.0 requires google-api-python-client<2,>=1.7.11, but you have google-api-python-client 2.79.0 which is incompatible.\r\n",
      "tfx-bsl 1.12.0 requires pyarrow<7,>=6, but you have pyarrow 5.0.0 which is incompatible.\r\n",
      "tfx-bsl 1.12.0 requires tensorflow<3,>=2.11, but you have tensorflow 2.8.2 which is incompatible.\r\n",
      "tensorflow-transform 1.12.0 requires pyarrow<7,>=6, but you have pyarrow 5.0.0 which is incompatible.\r\n",
      "tensorflow-transform 1.12.0 requires tensorflow<2.12,>=2.11.0, but you have tensorflow 2.8.2 which is incompatible.\r\n",
      "tensorflow-text 2.11.0 requires tensorflow<2.12,>=2.11.0; platform_machine != \"arm64\" or platform_system != \"Darwin\", but you have tensorflow 2.8.2 which is incompatible.\r\n",
      "tensorflow-serving-api 2.11.0 requires tensorflow<3,>=2.11.0, but you have tensorflow 2.8.2 which is incompatible.\r\n",
      "tensorflow-decision-forests 1.2.0 requires tensorflow~=2.11.0, but you have tensorflow 2.8.2 which is incompatible.\r\n",
      "onnx 1.13.1 requires protobuf<4,>=3.20.2, but you have protobuf 3.19.6 which is incompatible.\r\n",
      "apache-beam 2.44.0 requires dill<0.3.2,>=0.3.1.1, but you have dill 0.3.6 which is incompatible.\u001b[0m\u001b[31m\r\n",
      "\u001b[0mSuccessfully installed keras-2.8.0 keras-preprocessing-1.1.2 protobuf-3.19.6 tensorboard-2.8.0 tensorflow-2.8.2 tensorflow-estimator-2.8.0\r\n",
      "\u001b[33mWARNING: Running pip as the 'root' user can result in broken permissions and conflicting behaviour with the system package manager. It is recommended to use a virtual environment instead: https://pip.pypa.io/warnings/venv\u001b[0m\u001b[33m\r\n",
      "\u001b[0mRequirement already satisfied: opencv-python in /opt/conda/lib/python3.7/site-packages (4.5.4.60)\r\n",
      "Requirement already satisfied: numpy>=1.14.5 in /opt/conda/lib/python3.7/site-packages (from opencv-python) (1.21.6)\r\n",
      "\u001b[33mWARNING: Running pip as the 'root' user can result in broken permissions and conflicting behaviour with the system package manager. It is recommended to use a virtual environment instead: https://pip.pypa.io/warnings/venv\u001b[0m\u001b[33m\r\n",
      "\u001b[0mRequirement already satisfied: h5py in /opt/conda/lib/python3.7/site-packages (3.8.0)\r\n",
      "Requirement already satisfied: numpy>=1.14.5 in /opt/conda/lib/python3.7/site-packages (from h5py) (1.21.6)\r\n",
      "\u001b[33mWARNING: Running pip as the 'root' user can result in broken permissions and conflicting behaviour with the system package manager. It is recommended to use a virtual environment instead: https://pip.pypa.io/warnings/venv\u001b[0m\u001b[33m\r\n",
      "\u001b[0m"
     ]
    }
   ],
   "source": [
    "!pip install tensorflow==2.8.2\n",
    "!pip install opencv-python\n",
    "!pip install h5py"
   ]
  },
  {
   "cell_type": "code",
   "execution_count": 2,
   "id": "13942f13",
   "metadata": {
    "execution": {
     "iopub.execute_input": "2023-03-13T07:59:04.293422Z",
     "iopub.status.busy": "2023-03-13T07:59:04.292774Z",
     "iopub.status.idle": "2023-03-13T07:59:11.230499Z",
     "shell.execute_reply": "2023-03-13T07:59:11.229303Z"
    },
    "papermill": {
     "duration": 6.958573,
     "end_time": "2023-03-13T07:59:11.233188",
     "exception": false,
     "start_time": "2023-03-13T07:59:04.274615",
     "status": "completed"
    },
    "tags": []
   },
   "outputs": [],
   "source": [
    "import os\n",
    "import numpy as np\n",
    "import matplotlib.pyplot as plt\n",
    "import pickle\n",
    "import csv\n",
    "from glob import glob\n",
    "from zipfile import ZipFile\n",
    "from sklearn.preprocessing import LabelEncoder\n",
    "from typing import List, Tuple\n",
    "import random\n",
    "import cv2\n",
    "from builtins import zip\n",
    "from zipfile import ZipFile\n",
    "import h5py\n",
    "import tensorflow as tf\n",
    "\n",
    "_OUTPUT_PATH: str = '/kaggle/working'\n",
    "_INPUT_PATH: str = '/kaggle/input/cv-age-app-data'"
   ]
  },
  {
   "cell_type": "markdown",
   "id": "f009d353",
   "metadata": {
    "id": "RGjU8Xetxl3W",
    "papermill": {
     "duration": 0.017276,
     "end_time": "2023-03-13T07:59:11.267618",
     "exception": false,
     "start_time": "2023-03-13T07:59:11.250342",
     "status": "completed"
    },
    "tags": []
   },
   "source": [
    "## Load the data (we'd do it again to remove the augmented data)"
   ]
  },
  {
   "cell_type": "code",
   "execution_count": 3,
   "id": "9e4f9e3a",
   "metadata": {
    "execution": {
     "iopub.execute_input": "2023-03-13T07:59:11.302873Z",
     "iopub.status.busy": "2023-03-13T07:59:11.302239Z",
     "iopub.status.idle": "2023-03-13T07:59:24.364714Z",
     "shell.execute_reply": "2023-03-13T07:59:24.363085Z"
    },
    "papermill": {
     "duration": 13.083311,
     "end_time": "2023-03-13T07:59:24.367803",
     "exception": false,
     "start_time": "2023-03-13T07:59:11.284492",
     "status": "completed"
    },
    "tags": []
   },
   "outputs": [],
   "source": [
    "# loading the train data (with labels)\n",
    "X_train = np.load(f'{_INPUT_PATH}/data/data_train.npy')\n",
    "Y_train = np.load(f'{_INPUT_PATH}/data/labels_train.npy')\n",
    "M_train = np.load(f'{_INPUT_PATH}/data/meta_data_train.npy')\n",
    "\n",
    "# loading the validation data (with labels)\n",
    "X_valid = np.load(f'{_INPUT_PATH}/data/data_valid.npy')\n",
    "Y_valid = np.load(f'{_INPUT_PATH}/data/labels_valid.npy')\n",
    "M_valid = np.load(f'{_INPUT_PATH}/data/meta_data_valid.npy')\n",
    "\n",
    "# loading the test data (images only) to be used later in our challenge\n",
    "X_test = np.load(f'{_INPUT_PATH}/data/data_test.npy')\n",
    "\n",
    "# train labels are real numbers, ranging from ~0.9 to ~89 (years old);\n",
    "# we will re-scale the labels to [0,1] by using a normalization factor of 100,\n",
    "# assuming there is no sample with age > 100.\n",
    "Y_train = Y_train / 100\n",
    "Y_valid = Y_valid / 100"
   ]
  },
  {
   "cell_type": "markdown",
   "id": "18603429",
   "metadata": {
    "papermill": {
     "duration": 0.016873,
     "end_time": "2023-03-13T07:59:24.404668",
     "exception": false,
     "start_time": "2023-03-13T07:59:24.387795",
     "status": "completed"
    },
    "tags": []
   },
   "source": [
    "## We preprocess the inputs accordingly to the selected backbone of the net "
   ]
  },
  {
   "cell_type": "code",
   "execution_count": 4,
   "id": "828971be",
   "metadata": {
    "execution": {
     "iopub.execute_input": "2023-03-13T07:59:24.440354Z",
     "iopub.status.busy": "2023-03-13T07:59:24.439983Z",
     "iopub.status.idle": "2023-03-13T07:59:29.725443Z",
     "shell.execute_reply": "2023-03-13T07:59:29.724275Z"
    },
    "papermill": {
     "duration": 5.306662,
     "end_time": "2023-03-13T07:59:29.728525",
     "exception": false,
     "start_time": "2023-03-13T07:59:24.421863",
     "status": "completed"
    },
    "tags": []
   },
   "outputs": [],
   "source": [
    "BACKBONE: str = 'VGG19'  # 'ResNet50'  # 'VGG19'\n",
    "assert BACKBONE in ('VGG19', 'ResNet50'), \"Unrecognized backbone choice.\"\n",
    "\n",
    "# INPUT PREPROCESSING: needed for ResNet-50 or VGG19\n",
    "_input_preprocess: callable = tf.keras.applications.resnet50.preprocess_input if BACKBONE == 'ResNet50' else tf.keras.applications.vgg19.preprocess_input\n",
    "\n",
    "# train\n",
    "for i in range(0,X_train.shape[0]):\n",
    "    x = X_train[i,:,:,:]\n",
    "    x = np.expand_dims(x, axis=0)\n",
    "    X_train[i,] = _input_preprocess(x)\n",
    "\n",
    "# validation\n",
    "for i in range(0,X_valid.shape[0]):\n",
    "    x = X_valid[i,:,:,:]\n",
    "    x = np.expand_dims(x, axis=0)\n",
    "    X_valid[i,] = _input_preprocess(x)  \n",
    "\n",
    "# test\n",
    "for i in range(0,X_test.shape[0]):\n",
    "    x = X_test[i,:,:,:]\n",
    "    x = np.expand_dims(x, axis=0)\n",
    "    X_test[i,] = _input_preprocess(x)"
   ]
  },
  {
   "cell_type": "markdown",
   "id": "dcd27a09",
   "metadata": {
    "execution": {
     "iopub.execute_input": "2023-03-08T00:53:19.777296Z",
     "iopub.status.busy": "2023-03-08T00:53:19.776110Z",
     "iopub.status.idle": "2023-03-08T00:53:19.782082Z",
     "shell.execute_reply": "2023-03-08T00:53:19.780924Z"
    },
    "papermill": {
     "duration": 0.017732,
     "end_time": "2023-03-13T07:59:29.765818",
     "exception": false,
     "start_time": "2023-03-13T07:59:29.748086",
     "status": "completed"
    },
    "tags": []
   },
   "source": [
    "# Generate the weigths "
   ]
  },
  {
   "cell_type": "markdown",
   "id": "1ed73cc9",
   "metadata": {
    "papermill": {
     "duration": 0.01693,
     "end_time": "2023-03-13T07:59:29.799379",
     "exception": false,
     "start_time": "2023-03-13T07:59:29.782449",
     "status": "completed"
    },
    "tags": []
   },
   "source": [
    "## Baseline (original)\n",
    "\n",
    "- First, we will generate a weight for each age group (for g =1 to 4);\n",
    "- The formula used to calculate the weight for each group $j$ is:\n",
    "\n",
    "  $w_j=n_{samples} / (n_{classes} * n_{samples,j}),$\n",
    "\n",
    "  Where\n",
    "\n",
    "    - $w_j$ is the weight for each group $j$,\n",
    "    - $n_{samples}$ is the number of samples in the train set,\n",
    "    - $n_{classes}$ is the number of classes (4 in our case, as we divided the ages in 4 groups),\n",
    "    - $n_{samples,j}$ is the number of samples of class (group) $j$."
   ]
  },
  {
   "cell_type": "code",
   "execution_count": 5,
   "id": "999beff5",
   "metadata": {
    "execution": {
     "iopub.execute_input": "2023-03-13T07:59:29.834897Z",
     "iopub.status.busy": "2023-03-13T07:59:29.834550Z",
     "iopub.status.idle": "2023-03-13T07:59:29.839611Z",
     "shell.execute_reply": "2023-03-13T07:59:29.838522Z"
    },
    "id": "svMMpvU9xcJR",
    "papermill": {
     "duration": 0.02578,
     "end_time": "2023-03-13T07:59:29.842078",
     "exception": false,
     "start_time": "2023-03-13T07:59:29.816298",
     "status": "completed"
    },
    "tags": []
   },
   "outputs": [],
   "source": [
    "# # counting the number of samples per group in the train data (age attribute only)\n",
    "# g1 = g2 = g3 = g4 = 0\n",
    "# for i in range(0,Y_train.shape[0]):\n",
    "#     if(Y_train[i]*100<20):\n",
    "#         g1 +=1\n",
    "#     if(Y_train[i]*100>=20 and Y_train[i]*100<40):\n",
    "#         g2 +=1\n",
    "#     if(Y_train[i]*100>=40 and Y_train[i]*100<60):\n",
    "#         g3 +=1\n",
    "#     if(Y_train[i]*100>=60):\n",
    "#         g4 +=1\n",
    "# print('group(s) size = ', [g1, g2, g3, g4])\n",
    "# \n",
    "# # generating the weights for each group using the equation defined above\n",
    "# w = sum(np.array([g1, g2, g3, g4]))/(4*np.array([g1, g2, g3, g4]))\n",
    "# print('weights per group = ', w)\n",
    "# \n",
    "# # creating a vector with same size as Y_train, that will link a particular label to its weight\n",
    "# sample_weights = []\n",
    "# for i in range(0,Y_train.shape[0]):\n",
    "#     if Y_train[i]*100 < 20:\n",
    "#         sample_weights.append(w[0])\n",
    "#     if Y_train[i]*100 >= 20 and Y_train[i]*100<40:\n",
    "#         sample_weights.append(w[1])\n",
    "#     if Y_train[i]*100 >= 40 and Y_train[i]*100<60:\n",
    "#         sample_weights.append(w[2])\n",
    "#     if Y_train[i]*100 >= 60:\n",
    "#         sample_weights.append(w[3])\n",
    "# sample_weights = np.array(sample_weights)"
   ]
  },
  {
   "cell_type": "markdown",
   "id": "e2b35da4",
   "metadata": {
    "papermill": {
     "duration": 0.017627,
     "end_time": "2023-03-13T07:59:29.876599",
     "exception": false,
     "start_time": "2023-03-13T07:59:29.858972",
     "status": "completed"
    },
    "tags": []
   },
   "source": [
    "## Our baseline (custom groups)"
   ]
  },
  {
   "cell_type": "markdown",
   "id": "b13e9eee",
   "metadata": {
    "papermill": {
     "duration": 0.016981,
     "end_time": "2023-03-13T07:59:29.910671",
     "exception": false,
     "start_time": "2023-03-13T07:59:29.893690",
     "status": "completed"
    },
    "tags": []
   },
   "source": [
    "### Auxiliary visualization functions"
   ]
  },
  {
   "cell_type": "code",
   "execution_count": 6,
   "id": "8f669e78",
   "metadata": {
    "execution": {
     "iopub.execute_input": "2023-03-13T07:59:29.946412Z",
     "iopub.status.busy": "2023-03-13T07:59:29.946061Z",
     "iopub.status.idle": "2023-03-13T07:59:29.968992Z",
     "shell.execute_reply": "2023-03-13T07:59:29.967878Z"
    },
    "papermill": {
     "duration": 0.043044,
     "end_time": "2023-03-13T07:59:29.971155",
     "exception": false,
     "start_time": "2023-03-13T07:59:29.928111",
     "status": "completed"
    },
    "tags": []
   },
   "outputs": [],
   "source": [
    "####################################################################\n",
    "# DISTRIBUTION VISUALIZATIONS\n",
    "####################################################################\n",
    "\n",
    "def _show_all_four_distributions(\n",
    "        m_train: np.ndarray, m_val: np.ndarray, y_train: np.ndarray,\n",
    "        y_val: np.ndarray) -> None:\n",
    "    fig, (ax1, ax2, ax3, ax4) = plt.subplots(1, 4, figsize=(20, 4))\n",
    "    fig.suptitle('Metadata & age distribution', fontsize=14, fontweight='bold')\n",
    "    labels = ['Training', 'Validation']\n",
    "\n",
    "    for _i_label, metadata_array in enumerate([m_train, m_val]):\n",
    "        gender = []\n",
    "        etnhicity = []\n",
    "        emotion = []\n",
    "\n",
    "        for _sample in metadata_array:\n",
    "            gender.append(_sample[0])\n",
    "            etnhicity.append(_sample[1])\n",
    "            emotion.append(_sample[2])\n",
    "        age = y_train if _i_label == 0 else y_val\n",
    "\n",
    "        ax1.hist(gender, density=True, label=labels[_i_label], alpha=0.5)\n",
    "        ax2.hist(etnhicity, density=True, label=labels[_i_label], alpha=0.5)\n",
    "        ax3.hist(emotion, density=True, label=labels[_i_label], alpha=0.5)\n",
    "        ax4.hist(age, density=True, label=labels[_i_label], alpha=0.5)\n",
    "\n",
    "    fig.legend(labels)\n",
    "    plt.savefig(f'{_OUTPUT_PATH}/train_val_histograms.png', dpi=150)\n",
    "    plt.show()\n",
    "\n",
    "\n",
    "def _show_the_age_distribution(y_train: np.ndarray, y_val: np.ndarray) -> None:\n",
    "    fig, ax1 = plt.subplots(1, 1, figsize=(15, 4))\n",
    "    fig.suptitle('Age distribution', fontsize=14, fontweight='bold')\n",
    "\n",
    "    # labels are multiplied by 100 to show the original values\n",
    "    ax1.hist(y_train * 100, bins=50, density=True, label='Train', alpha=0.5)\n",
    "    ax1.hist(y_val * 100, bins=50, density=True, label='Validation', alpha=0.5)\n",
    "    ax1.set_title('Age labels')\n",
    "    ax1.set(xlabel='Apparent age', ylabel='Density')\n",
    "    ax1.set_xlim([0, 100])\n",
    "    fig.legend(['Train', 'Validation'])\n",
    "    plt.show()\n",
    "\n",
    "\n",
    "def _show_metadata_distribution(\n",
    "        m_train: np.ndarray, m_val: np.ndarray) -> None:\n",
    "    fig, (ax1, ax2, ax3) = plt.subplots(1, 3, figsize=(20, 4))\n",
    "    fig.suptitle('Metadata distribution', fontsize=14, fontweight='bold')\n",
    "    labels = ['Training', 'Validation']\n",
    "\n",
    "    for _i_label, metadata_array in enumerate([m_train, m_val]):\n",
    "        gender = []\n",
    "        etnhicity = []\n",
    "        emotion = []\n",
    "\n",
    "        for _sample in metadata_array:\n",
    "            gender.append(_sample[0])\n",
    "            etnhicity.append(_sample[1])\n",
    "            emotion.append(_sample[2])\n",
    "\n",
    "        ax1.hist(gender, density=True, label=labels[_i_label], alpha=0.5)\n",
    "        ax2.hist(etnhicity, density=True, label=labels[_i_label], alpha=0.5)\n",
    "        ax3.hist(emotion, density=True, label=labels[_i_label], alpha=0.5)\n",
    "    fig.legend(labels)\n",
    "    plt.show()\n",
    "\n",
    "\n",
    "def show_distribution(_arrays: List[np.ndarray], labels: List[str]) -> None:\n",
    "    fig, ax1 = plt.subplots(1, 1, figsize=(15, 4))\n",
    "    fig.suptitle('Categories distribution', fontsize=14, fontweight='bold')\n",
    "\n",
    "    # labels are multiplied by 100 to show the original values\n",
    "    for _i_l, _array in enumerate(_arrays):\n",
    "        ax1.hist(_array, bins=len(np.unique(_array)), density=True,\n",
    "                 alpha=0.5, label=labels[_i_l])\n",
    "    ax1.set_title('Categories')\n",
    "    ax1.set(xlabel='Category label', ylabel='Density')\n",
    "    ax1.set_xlim([0, len(np.unique(_arrays[0]))])\n",
    "    fig.legend(labels)\n",
    "    plt.savefig(f'{_OUTPUT_PATH}/categories.png', dpi=150)\n",
    "    plt.show()\n",
    "    \n",
    "    \n",
    "def show_sample_weights_distribution(\n",
    "        weights: List[np.ndarray], labels: List[str],\n",
    "        file_name: str = 'sample_weights') -> None:\n",
    "    fig, ax1 = plt.subplots(1, 1, figsize=(15, 4))\n",
    "    fig.suptitle('Sample weights distribution', fontsize=14, fontweight='bold')\n",
    "\n",
    "    # labels are multiplied by 100 to show the original values\n",
    "    for _i_l, _array in enumerate(weights):\n",
    "        ax1.hist(_array, bins=50, density=True,\n",
    "                 alpha=0.5, label=labels[_i_l])\n",
    "    # ax1.set_title('Categories')\n",
    "    ax1.set(xlabel='Weight value', ylabel='Density')\n",
    "    # ax1.set_xlim([np.min(np.concatenate(weights)), np.max(np.concatenate(weights))])\n",
    "    fig.legend(labels)\n",
    "    plt.savefig(f'{_OUTPUT_PATH}/{file_name}.png', dpi=150)\n",
    "    plt.show()"
   ]
  },
  {
   "cell_type": "markdown",
   "id": "79785433",
   "metadata": {
    "papermill": {
     "duration": 0.016992,
     "end_time": "2023-03-13T07:59:30.005280",
     "exception": false,
     "start_time": "2023-03-13T07:59:29.988288",
     "status": "completed"
    },
    "tags": []
   },
   "source": [
    "### Main custom functions"
   ]
  },
  {
   "cell_type": "code",
   "execution_count": 7,
   "id": "1886a574",
   "metadata": {
    "execution": {
     "iopub.execute_input": "2023-03-13T07:59:30.041522Z",
     "iopub.status.busy": "2023-03-13T07:59:30.041253Z",
     "iopub.status.idle": "2023-03-13T07:59:30.059838Z",
     "shell.execute_reply": "2023-03-13T07:59:30.058740Z"
    },
    "papermill": {
     "duration": 0.039748,
     "end_time": "2023-03-13T07:59:30.062281",
     "exception": false,
     "start_time": "2023-03-13T07:59:30.022533",
     "status": "completed"
    },
    "tags": []
   },
   "outputs": [],
   "source": [
    "####################################################################\n",
    "# MAIN FUNCTIONS\n",
    "####################################################################\n",
    "\n",
    "def create_sample_weights_vector(\n",
    "        use_custom_weight: bool, _plot_categories: bool = False) -> np.ndarray:\n",
    "    comp_categories: np.ndarray = create_compound_categories(Y_train, M_train)\n",
    "    comp_dict: dict = create_count_dictionary(comp_categories)\n",
    "\n",
    "    if use_custom_weight:\n",
    "        sample_weights: np.ndarray = __define_custom_sample_weight(\n",
    "            comp_categories, comp_dict)\n",
    "    else:\n",
    "        sample_weights: np.ndarray = __define_classic_sample_weight(\n",
    "            comp_categories, comp_dict)\n",
    "\n",
    "    if _plot_categories:\n",
    "        show_distribution([comp_categories], ['Compound categories'])\n",
    "\n",
    "    return sample_weights\n",
    "\n",
    "\n",
    "def __define_classic_sample_weight(\n",
    "        categories: np.ndarray, samples_count: dict,\n",
    "        _corrected: bool = True) -> np.ndarray:\n",
    "    \"\"\"\n",
    "    Compute the weight for each sample according to the baseline formula:\n",
    "\n",
    "    omega_j = log \\frac{n_samples}{n_{classes} * n_{samples, j}}\n",
    "\n",
    "    Parameters\n",
    "    ----------\n",
    "    categories: np.ndarray\n",
    "        Categories vector Y_train-like containing the category label\n",
    "        for each sample\n",
    "    samples_count: dict\n",
    "        Dictionary containing the number of samples (value) for each\n",
    "        category label (key)\n",
    "    _corrected: bool\n",
    "        If True, then a log-transform is applied to the formula to\n",
    "        avoid outliers\n",
    "\n",
    "    Returns\n",
    "    -------\n",
    "    weights: np.ndarray\n",
    "        Sample weights vector Y_train-like containing the category-weight\n",
    "        for each sample\n",
    "\n",
    "    \"\"\"\n",
    "    n_samples: int = categories.shape[0]\n",
    "    n_classes: int = len(samples_count)\n",
    "    weights: np.ndarray = np.full(categories.shape, np.nan)\n",
    "    for _j in range(n_samples):\n",
    "        n_samples_j = samples_count[categories[_j]]\n",
    "        weights[_j] = n_samples / (n_classes * n_samples_j)\n",
    "\n",
    "    if not _corrected:\n",
    "        return weights\n",
    "\n",
    "    log_transformed: np.ndarray = np.log(weights + 1)\n",
    "    _normalization = np.sum(log_transformed) / n_samples\n",
    "\n",
    "    return log_transformed / _normalization\n",
    "\n",
    "\n",
    "def __define_custom_sample_weight(\n",
    "        categories: np.ndarray, samples_count: dict) -> np.ndarray:\n",
    "    \"\"\"\n",
    "    Compute the weight for each sample according to the baseline formula:\n",
    "\n",
    "    omega_j = \\frac{n_samples}{n_{classes} * n_{samples, j}}\n",
    "\n",
    "    Parameters\n",
    "    ----------\n",
    "    categories: np.ndarray\n",
    "        Categories vector Y_train-like containing the category label\n",
    "        for each sample\n",
    "    samples_count: dict\n",
    "        Dictionary containing the number of samples (value) for each\n",
    "        category label (key)\n",
    "\n",
    "    Returns\n",
    "    -------\n",
    "    weights: np.ndarray\n",
    "        Sample weights vector Y_train-like containing the category-weight\n",
    "        for each sample\n",
    "\n",
    "    \"\"\"\n",
    "    n_samples: int = categories.shape[0]\n",
    "    n_classes: int = len(samples_count)\n",
    "    weights: np.ndarray = np.full(categories.shape, np.nan)\n",
    "    for _j in range(n_samples):\n",
    "        n_samples_j = samples_count[categories[_j]]\n",
    "        weights[_j] = np.log(1 + n_samples) / (n_classes * np.log(1 + n_samples_j))\n",
    "    return weights\n",
    "\n",
    "\n",
    "####################################################################\n",
    "# MAIN WRAPPERS\n",
    "####################################################################\n",
    "\n",
    "def create_compound_categories(y_array, m_array) -> np.ndarray:\n",
    "    age_train: np.ndarray = _age_to_group(y_array)\n",
    "    categories_train: np.ndarray = _metadata_to_group(m_array)\n",
    "    comp_categories: np.ndarray = _create_compound_categories(\n",
    "        age_train, categories_train)\n",
    "    return comp_categories\n",
    "\n",
    "\n",
    "def create_count_dictionary(cat_array: np.ndarray) -> dict:\n",
    "    unique, counts = np.unique(cat_array, return_counts=True)\n",
    "    return dict(zip(unique, counts))\n",
    "\n",
    "\n",
    "####################################################################\n",
    "# AUXILIARY FUNCTIONS\n",
    "####################################################################\n",
    "\n",
    "def _create_compound_categories(\n",
    "        age_array: np.ndarray, categories_array: np.ndarray) -> np.ndarray:\n",
    "    _c: np.ndarray = np.concatenate(\n",
    "        [age_array.reshape(-1, 1), categories_array], axis=1). \\\n",
    "        astype(int).astype(str)\n",
    "\n",
    "    _hash_arr = np.char.add(\n",
    "        _c[:, 0], np.char.add(_c[:, 1], np.char.add(_c[:, 2], _c[:, 3])))\n",
    "\n",
    "    return LabelEncoder().fit_transform(_hash_arr)\n",
    "\n",
    "\n",
    "def _age_to_group(y_array: np.ndarray) -> np.ndarray:\n",
    "    return np.vectorize(__age_to_group)(y_array)\n",
    "\n",
    "\n",
    "def __age_to_group(age: float) -> int:\n",
    "    _groups: dict = {\n",
    "        0: 0. <= age * 100 < 20., 1: 20. <= age * 100 < 40.,\n",
    "        2: 40. <= age * 100 < 60., 3: 60. <= age * 100 < 100}\n",
    "    for _k, _v in _groups.items():\n",
    "        if _v:\n",
    "            return _k\n",
    "    raise ValueError(f\"Unexpected age value: {age}!\")\n",
    "\n",
    "\n",
    "def _metadata_to_group(m_array: np.ndarray) -> np.ndarray:\n",
    "    categories_train = np.full(m_array.shape, np.nan)\n",
    "    for _j in range(m_array.shape[1]):\n",
    "        categories_train[:, _j] = LabelEncoder().fit_transform(m_array[:, _j])\n",
    "    return categories_train"
   ]
  },
  {
   "cell_type": "markdown",
   "id": "d7dc7dc8",
   "metadata": {
    "papermill": {
     "duration": 0.01662,
     "end_time": "2023-03-13T07:59:30.095972",
     "exception": false,
     "start_time": "2023-03-13T07:59:30.079352",
     "status": "completed"
    },
    "tags": []
   },
   "source": [
    "### Sample weights vector declaration"
   ]
  },
  {
   "cell_type": "code",
   "execution_count": 8,
   "id": "0b5a6320",
   "metadata": {
    "execution": {
     "iopub.execute_input": "2023-03-13T07:59:30.130575Z",
     "iopub.status.busy": "2023-03-13T07:59:30.130308Z",
     "iopub.status.idle": "2023-03-13T07:59:30.161913Z",
     "shell.execute_reply": "2023-03-13T07:59:30.160936Z"
    },
    "papermill": {
     "duration": 0.051307,
     "end_time": "2023-03-13T07:59:30.164159",
     "exception": false,
     "start_time": "2023-03-13T07:59:30.112852",
     "status": "completed"
    },
    "tags": []
   },
   "outputs": [],
   "source": [
    "sample_weights: np.ndarray = create_sample_weights_vector(False)"
   ]
  },
  {
   "cell_type": "code",
   "execution_count": 9,
   "id": "c176440c",
   "metadata": {
    "execution": {
     "iopub.execute_input": "2023-03-13T07:59:30.199211Z",
     "iopub.status.busy": "2023-03-13T07:59:30.198897Z",
     "iopub.status.idle": "2023-03-13T07:59:30.794334Z",
     "shell.execute_reply": "2023-03-13T07:59:30.793153Z"
    },
    "papermill": {
     "duration": 0.615403,
     "end_time": "2023-03-13T07:59:30.796893",
     "exception": false,
     "start_time": "2023-03-13T07:59:30.181490",
     "status": "completed"
    },
    "tags": []
   },
   "outputs": [
    {
     "data": {
      "image/png": "[encoded data removed]",
      "text/plain": [
       "<Figure size 1500x400 with 1 Axes>"
      ]
     },
     "metadata": {},
     "output_type": "display_data"
    }
   ],
   "source": [
    "show_sample_weights_distribution([sample_weights], ['Log-transformed weights'])"
   ]
  },
  {
   "cell_type": "markdown",
   "id": "c32be033",
   "metadata": {
    "id": "5gTtMXGmx5jA",
    "papermill": {
     "duration": 0.017229,
     "end_time": "2023-03-13T07:59:30.832785",
     "exception": false,
     "start_time": "2023-03-13T07:59:30.815556",
     "status": "completed"
    },
    "tags": []
   },
   "source": [
    "# I) Using the SAMPLE WEIGHTS to train our model and,\n",
    "- Next, you will see the code we used to train our model (2nd stage) from the model we obtained at the 1st stage, using the customized loss option with sample weights.\n",
    "- As default, the code will load the model already trained. \n",
    "- You can change the boolean variable 'LOAD_BEST_MODEL_ST2_WEIGHTED_LOSS' to False to train your model.\n",
    "- Note, now we include other variables ('RESUME_TRAINING' and 'RESUME_FROM_EPOCH') to allow us resuming training, as well as to inform from what epoch we want to resume the trainind, detailed below.\n",
    "\n",
    "# II) illustrating how to train + save + stop training + RESUME TRAINING\n",
    "- **Imagine** you set 'LOAD_BEST_MODEL_ST2_WEIGHTED_LOSS = False', 'NUM_EPOCHS = 12' and 'RESUME_TRAINING = False' to train your model the first time.\n",
    "- Due to Colab limitations, your process stoped the training at the middle of epoch 10, and you saved the best model based on validation loss on epoch 9.\n",
    "- In the above example, you can resume training from epoch 9 by setting the following parameters:\n",
    "  - 'RESUME_TRAINING = True'\n",
    "  - 'RESUME_FROM_EPOCH = 9'\n",
    "\n",
    "- IMPORTANT: to resume training, you will need to monitor the epoch number where your model stopped before resuming the training, and change the defined variables properly. \n",
    "  - Note that the fit function is adapted to receive the sample weights ('sample_weight=sample_weights').\n",
    "  - Also note that the fit function changes if you are training from epoch 0 (initial_epoch=0) or resume training (initial_epoch=RESUME_FROM_EPOCH). \n",
    "  - Finally, note that when you are resuming training, you load your 'best_model_2nd_stage_weighted.h5' instead of the model trained at stage 1 ('best_model.h5').\n",
    "if not SKIP_NEW_CELLS:"
   ]
  },
  {
   "cell_type": "markdown",
   "id": "36eb5f17",
   "metadata": {
    "papermill": {
     "duration": 0.01697,
     "end_time": "2023-03-13T07:59:30.867035",
     "exception": false,
     "start_time": "2023-03-13T07:59:30.850065",
     "status": "completed"
    },
    "tags": []
   },
   "source": [
    "# Training strategy\n",
    "\n",
    "## We use the 2-stage training strategy: in the 1st one just the FC layers are trained, in the 2nd one the whole model is trained\n",
    "\n",
    "#### We can deactivate the 1st training stage or activate it (the latter is useful if the backbone is desired to be changed)"
   ]
  },
  {
   "cell_type": "code",
   "execution_count": 10,
   "id": "b5706816",
   "metadata": {
    "execution": {
     "iopub.execute_input": "2023-03-13T07:59:30.902613Z",
     "iopub.status.busy": "2023-03-13T07:59:30.902301Z",
     "iopub.status.idle": "2023-03-13T07:59:30.907746Z",
     "shell.execute_reply": "2023-03-13T07:59:30.906743Z"
    },
    "papermill": {
     "duration": 0.025541,
     "end_time": "2023-03-13T07:59:30.909919",
     "exception": false,
     "start_time": "2023-03-13T07:59:30.884378",
     "status": "completed"
    },
    "tags": []
   },
   "outputs": [],
   "source": [
    "# FIRST STAGE\n",
    "#--------------------------\n",
    "LOAD_BEST_MODEL_ST1_WEIGHTED_LOSS = False  # False  # True  # if False, then the 1st stage training is also carried out \n",
    "# just if 'LOAD_BEST_MODEL_ST1_WEIGHTED_LOSS = False'\n",
    "_EPOCHS_1ST_STAGE: int = 60\n",
    "\n",
    "# SECOND STAGE\n",
    "#--------------------------\n",
    "LOAD_BEST_MODEL_ST2_WEIGHTED_LOSS = False\n",
    "NUM_EPOCHS = 75\n",
    "LEARNING_RATE_ST1: float = 1e-5\n",
    "LEARNING_RATE_ST2: float = 5e-5\n",
    "#--------------------------\n",
    "RESUME_TRAINING = False\n",
    "RESUME_FROM_EPOCH = 25\n",
    "#--------------------------"
   ]
  },
  {
   "cell_type": "markdown",
   "id": "9d11c58e",
   "metadata": {
    "papermill": {
     "duration": 0.017367,
     "end_time": "2023-03-13T07:59:30.944866",
     "exception": false,
     "start_time": "2023-03-13T07:59:30.927499",
     "status": "completed"
    },
    "tags": []
   },
   "source": [
    "## First stage\n",
    "\n",
    "#### The first model output is saved as ``best_model.h5``"
   ]
  },
  {
   "cell_type": "code",
   "execution_count": 11,
   "id": "3a98c726",
   "metadata": {
    "execution": {
     "iopub.execute_input": "2023-03-13T07:59:30.980430Z",
     "iopub.status.busy": "2023-03-13T07:59:30.980145Z",
     "iopub.status.idle": "2023-03-13T08:27:31.688282Z",
     "shell.execute_reply": "2023-03-13T08:27:31.687234Z"
    },
    "papermill": {
     "duration": 1681.140374,
     "end_time": "2023-03-13T08:27:32.102726",
     "exception": false,
     "start_time": "2023-03-13T07:59:30.962352",
     "status": "completed"
    },
    "tags": []
   },
   "outputs": [
    {
     "name": "stdout",
     "output_type": "stream",
     "text": [
      "Downloading data from https://storage.googleapis.com/tensorflow/keras-applications/vgg19/vgg19_weights_tf_dim_ordering_tf_kernels.h5\n",
      "574717952/574710816 [==============================] - 4s 0us/step\n",
      "574726144/574710816 [==============================] - 4s 0us/step\n",
      "Epoch 1/60\n",
      "128/128 [==============================] - 46s 258ms/step - loss: 0.0678 - mae: 0.2098 - val_loss: 0.0487 - val_mae: 0.1782\n",
      "Epoch 2/60\n",
      "128/128 [==============================] - 31s 247ms/step - loss: 0.0455 - mae: 0.1715 - val_loss: 0.0404 - val_mae: 0.1601\n",
      "Epoch 3/60\n",
      "128/128 [==============================] - 32s 251ms/step - loss: 0.0373 - mae: 0.1533 - val_loss: 0.0352 - val_mae: 0.1487\n",
      "Epoch 4/60\n",
      "128/128 [==============================] - 34s 270ms/step - loss: 0.0321 - mae: 0.1414 - val_loss: 0.0318 - val_mae: 0.1407\n",
      "Epoch 5/60\n",
      "128/128 [==============================] - 32s 252ms/step - loss: 0.0287 - mae: 0.1330 - val_loss: 0.0294 - val_mae: 0.1348\n",
      "Epoch 6/60\n",
      "128/128 [==============================] - 32s 253ms/step - loss: 0.0263 - mae: 0.1271 - val_loss: 0.0277 - val_mae: 0.1302\n",
      "Epoch 7/60\n",
      "128/128 [==============================] - 33s 255ms/step - loss: 0.0246 - mae: 0.1225 - val_loss: 0.0265 - val_mae: 0.1271\n",
      "Epoch 8/60\n",
      "128/128 [==============================] - 33s 255ms/step - loss: 0.0233 - mae: 0.1192 - val_loss: 0.0257 - val_mae: 0.1251\n",
      "Epoch 9/60\n",
      "128/128 [==============================] - 35s 271ms/step - loss: 0.0223 - mae: 0.1162 - val_loss: 0.0249 - val_mae: 0.1233\n",
      "Epoch 10/60\n",
      "128/128 [==============================] - 33s 255ms/step - loss: 0.0214 - mae: 0.1138 - val_loss: 0.0245 - val_mae: 0.1223\n",
      "Epoch 11/60\n",
      "128/128 [==============================] - 33s 257ms/step - loss: 0.0207 - mae: 0.1117 - val_loss: 0.0241 - val_mae: 0.1211\n",
      "Epoch 12/60\n",
      "128/128 [==============================] - 33s 256ms/step - loss: 0.0200 - mae: 0.1098 - val_loss: 0.0238 - val_mae: 0.1204\n",
      "Epoch 13/60\n",
      "128/128 [==============================] - 33s 257ms/step - loss: 0.0194 - mae: 0.1081 - val_loss: 0.0234 - val_mae: 0.1193\n",
      "Epoch 14/60\n",
      "128/128 [==============================] - 33s 258ms/step - loss: 0.0188 - mae: 0.1066 - val_loss: 0.0232 - val_mae: 0.1187\n",
      "Epoch 15/60\n",
      "128/128 [==============================] - 33s 258ms/step - loss: 0.0183 - mae: 0.1052 - val_loss: 0.0230 - val_mae: 0.1179\n",
      "Epoch 16/60\n",
      "128/128 [==============================] - 33s 258ms/step - loss: 0.0179 - mae: 0.1039 - val_loss: 0.0229 - val_mae: 0.1179\n",
      "Epoch 17/60\n",
      "128/128 [==============================] - 33s 258ms/step - loss: 0.0175 - mae: 0.1029 - val_loss: 0.0226 - val_mae: 0.1170\n",
      "Epoch 18/60\n",
      "128/128 [==============================] - 33s 259ms/step - loss: 0.0172 - mae: 0.1017 - val_loss: 0.0225 - val_mae: 0.1166\n",
      "Epoch 19/60\n",
      "128/128 [==============================] - 33s 259ms/step - loss: 0.0168 - mae: 0.1005 - val_loss: 0.0224 - val_mae: 0.1163\n",
      "Epoch 20/60\n",
      "128/128 [==============================] - 33s 260ms/step - loss: 0.0165 - mae: 0.0995 - val_loss: 0.0222 - val_mae: 0.1160\n",
      "Epoch 21/60\n",
      "128/128 [==============================] - 33s 261ms/step - loss: 0.0161 - mae: 0.0984 - val_loss: 0.0221 - val_mae: 0.1157\n",
      "Epoch 22/60\n",
      "128/128 [==============================] - 31s 247ms/step - loss: 0.0159 - mae: 0.0976 - val_loss: 0.0222 - val_mae: 0.1160\n",
      "Epoch 23/60\n",
      "128/128 [==============================] - 33s 259ms/step - loss: 0.0155 - mae: 0.0964 - val_loss: 0.0220 - val_mae: 0.1153\n",
      "Epoch 24/60\n",
      "128/128 [==============================] - 33s 260ms/step - loss: 0.0153 - mae: 0.0958 - val_loss: 0.0219 - val_mae: 0.1150\n",
      "Epoch 25/60\n",
      "128/128 [==============================] - 33s 259ms/step - loss: 0.0150 - mae: 0.0946 - val_loss: 0.0218 - val_mae: 0.1147\n",
      "Epoch 26/60\n",
      "128/128 [==============================] - 31s 246ms/step - loss: 0.0147 - mae: 0.0937 - val_loss: 0.0218 - val_mae: 0.1150\n",
      "Epoch 27/60\n",
      "128/128 [==============================] - 33s 258ms/step - loss: 0.0145 - mae: 0.0928 - val_loss: 0.0216 - val_mae: 0.1142\n",
      "Epoch 28/60\n",
      "128/128 [==============================] - 31s 247ms/step - loss: 0.0142 - mae: 0.0920 - val_loss: 0.0217 - val_mae: 0.1148\n",
      "Epoch 29/60\n",
      "128/128 [==============================] - 33s 258ms/step - loss: 0.0140 - mae: 0.0912 - val_loss: 0.0216 - val_mae: 0.1144\n",
      "Epoch 30/60\n",
      "128/128 [==============================] - 33s 259ms/step - loss: 0.0137 - mae: 0.0903 - val_loss: 0.0215 - val_mae: 0.1141\n",
      "Epoch 31/60\n",
      "128/128 [==============================] - 31s 246ms/step - loss: 0.0135 - mae: 0.0894 - val_loss: 0.0215 - val_mae: 0.1144\n",
      "Epoch 32/60\n",
      "128/128 [==============================] - 33s 258ms/step - loss: 0.0133 - mae: 0.0888 - val_loss: 0.0214 - val_mae: 0.1138\n",
      "Epoch 33/60\n",
      "128/128 [==============================] - 31s 247ms/step - loss: 0.0130 - mae: 0.0879 - val_loss: 0.0214 - val_mae: 0.1141\n",
      "Epoch 34/60\n",
      "128/128 [==============================] - 35s 273ms/step - loss: 0.0128 - mae: 0.0871 - val_loss: 0.0214 - val_mae: 0.1139\n",
      "Epoch 35/60\n",
      "128/128 [==============================] - 31s 246ms/step - loss: 0.0126 - mae: 0.0861 - val_loss: 0.0214 - val_mae: 0.1141\n",
      "Epoch 36/60\n",
      "128/128 [==============================] - 33s 257ms/step - loss: 0.0124 - mae: 0.0853 - val_loss: 0.0213 - val_mae: 0.1137\n",
      "Epoch 37/60\n",
      "128/128 [==============================] - 33s 257ms/step - loss: 0.0122 - mae: 0.0846 - val_loss: 0.0212 - val_mae: 0.1137\n",
      "Epoch 38/60\n",
      "128/128 [==============================] - 33s 257ms/step - loss: 0.0120 - mae: 0.0838 - val_loss: 0.0212 - val_mae: 0.1137\n",
      "Epoch 39/60\n",
      "128/128 [==============================] - 31s 246ms/step - loss: 0.0118 - mae: 0.0833 - val_loss: 0.0213 - val_mae: 0.1140\n",
      "Epoch 40/60\n",
      "128/128 [==============================] - 31s 246ms/step - loss: 0.0116 - mae: 0.0825 - val_loss: 0.0212 - val_mae: 0.1139\n",
      "Epoch 41/60\n",
      "128/128 [==============================] - 33s 258ms/step - loss: 0.0114 - mae: 0.0816 - val_loss: 0.0211 - val_mae: 0.1136\n",
      "Epoch 42/60\n",
      "128/128 [==============================] - 31s 246ms/step - loss: 0.0112 - mae: 0.0808 - val_loss: 0.0211 - val_mae: 0.1136\n",
      "Epoch 43/60\n",
      "128/128 [==============================] - 32s 247ms/step - loss: 0.0110 - mae: 0.0802 - val_loss: 0.0211 - val_mae: 0.1138\n",
      "Epoch 44/60\n",
      "128/128 [==============================] - 33s 259ms/step - loss: 0.0108 - mae: 0.0795 - val_loss: 0.0211 - val_mae: 0.1134\n",
      "Epoch 45/60\n",
      "128/128 [==============================] - 31s 246ms/step - loss: 0.0107 - mae: 0.0788 - val_loss: 0.0212 - val_mae: 0.1142\n",
      "Epoch 46/60\n",
      "128/128 [==============================] - 33s 258ms/step - loss: 0.0105 - mae: 0.0781 - val_loss: 0.0209 - val_mae: 0.1131\n",
      "Epoch 47/60\n",
      "128/128 [==============================] - 31s 246ms/step - loss: 0.0103 - mae: 0.0774 - val_loss: 0.0211 - val_mae: 0.1139\n",
      "Epoch 48/60\n",
      "128/128 [==============================] - 32s 247ms/step - loss: 0.0102 - mae: 0.0767 - val_loss: 0.0210 - val_mae: 0.1135\n",
      "Epoch 49/60\n",
      "128/128 [==============================] - 32s 247ms/step - loss: 0.0100 - mae: 0.0758 - val_loss: 0.0211 - val_mae: 0.1141\n",
      "Epoch 50/60\n",
      "128/128 [==============================] - 32s 247ms/step - loss: 0.0099 - mae: 0.0752 - val_loss: 0.0211 - val_mae: 0.1143\n",
      "Epoch 51/60\n",
      "128/128 [==============================] - 32s 247ms/step - loss: 0.0097 - mae: 0.0745 - val_loss: 0.0209 - val_mae: 0.1134\n",
      "Epoch 51: early stopping\n"
     ]
    }
   ],
   "source": [
    "if LOAD_BEST_MODEL_ST1_WEIGHTED_LOSS:\n",
    "    # nothing is done, the trained st1 model is download and saved as 'best_model.h5'\n",
    "    !wget http://data.chalearnlap.cvc.uab.cat/Colab_2021/best_model_st1.zip\n",
    "    # decompressing the data\n",
    "    with ZipFile('best_model_st1.zip','r') as zip:\n",
    "        zip.extractall()\n",
    "    print('Model decompressed successfully')\n",
    "    \n",
    "    # removing the .zip file after extraction  to clean space\n",
    "    !rm best_model_st1.zip\n",
    "else:\n",
    "    # WE DOWNLOAD THE RESNET50\n",
    "    if BACKBONE == 'ResNet50':\n",
    "        if not os.path.isfile(f'{_OUTPUT_PATH}/model/weights.h5'):\n",
    "            # downloading the data\n",
    "            !wget http://data.chalearnlap.cvc.uab.cat/Colab_2021/model.zip\n",
    "\n",
    "            # decompressing the data\n",
    "            with ZipFile(f'{_OUTPUT_PATH}/model.zip','r') as _zip:\n",
    "                _zip.extractall()\n",
    "                print('Model decompressed successfully')\n",
    "\n",
    "            # removing the .zip file after extraction  to clean space\n",
    "            !rm model.zip\n",
    "\n",
    "        # we load the pretrained model, add some layers & train the last FC layers\n",
    "        # then the model is saved as best_model.h5\n",
    "        model = tf.keras.models.load_model(f'{_OUTPUT_PATH}/model/weights.h5')\n",
    "    else:\n",
    "        model = tf.keras.applications.VGG19()\n",
    "        \n",
    "    # Using the FC layer before the 'classifier_low_dim' layer as feature vector\n",
    "    if BACKBONE == 'ResNet50':\n",
    "        fc_512 = model.get_layer('dim_proj').output\n",
    "    else:\n",
    "        fc_512 = model.get_layer('fc2').output\n",
    "\n",
    "    if BACKBONE == 'VGG19':\n",
    "        # we freeze the layers here\n",
    "        for layers in model.layers:\n",
    "            layers.trainable = False\n",
    "\n",
    "    # adding a dropout layer to minimize overfiting problems\n",
    "    dp_layer = tf.keras.layers.Dropout(0.5)(fc_512)\n",
    "    # adding a few hidden FC layers to learn hidden representations\n",
    "    # fc_128 = tf.keras.layers.Dense(128, activation='relu', name='f_128')(fc_512)\n",
    "    # fc_32 = tf.keras.layers.Dense(32, activation='relu', name='f_32')(fc_128)\n",
    "    fc_32 = tf.keras.layers.Dense(32, activation='relu', name='f_32')(fc_512)\n",
    "\n",
    "    # Includint an additional FC layer with sigmoid activation, used to regress\n",
    "    # the apparent age\n",
    "    output = tf.keras.layers.Dense(1, activation='sigmoid', name='predict')(fc_32)\n",
    "\n",
    "    # building the final model\n",
    "    if BACKBONE == 'ResNet50':\n",
    "        model = tf.keras.models.Model(inputs=model.get_layer('base_input').output,outputs=output)\n",
    "    else:\n",
    "        model = tf.keras.models.Model(inputs=model.layers[0].output,outputs=output)\n",
    "\n",
    "    if BACKBONE == 'ResNet50':\n",
    "        # we freeze the first layers (belonging to the Resnet)\n",
    "        counter = 0\n",
    "        for layer in model.layers:\n",
    "            if counter <= 174: \n",
    "                layer.trainable = False\n",
    "            else:\n",
    "                layer.trainable = True\n",
    "            counter +=1\n",
    "\n",
    "    # defining the early stop criteria\n",
    "    es = tf.keras.callbacks.EarlyStopping(monitor='val_loss', mode='min', verbose=1, patience=5)\n",
    "    # saving the best model based on val_loss\n",
    "    mc = tf.keras.callbacks.ModelCheckpoint(f'{_OUTPUT_PATH}/best_model.h5', monitor='val_loss', mode='min', save_best_only=True)\n",
    "\n",
    "    # defining the optimizer\n",
    "    model.compile(tf.keras.optimizers.Adam(learning_rate=LEARNING_RATE_ST1),loss=tf.keras.losses.MeanSquaredError(),metrics=['mae'])\n",
    "\n",
    "    # training the model\n",
    "    history = model.fit(X_train, Y_train, validation_data=(X_valid, Y_valid), batch_size=32, epochs=_EPOCHS_1ST_STAGE, shuffle=True, verbose=1, callbacks=[es, mc])\n",
    "\n",
    "    # saving training history (for future visualization)\n",
    "    with open(f'{_OUTPUT_PATH}/train_history_1st_stage.pkl', 'wb') as handle:\n",
    "        pickle.dump(history.history, handle, protocol=pickle.HIGHEST_PROTOCOL)"
   ]
  },
  {
   "cell_type": "markdown",
   "id": "6d773980",
   "metadata": {
    "papermill": {
     "duration": 0.365545,
     "end_time": "2023-03-13T08:27:32.835433",
     "exception": false,
     "start_time": "2023-03-13T08:27:32.469888",
     "status": "completed"
    },
    "tags": []
   },
   "source": [
    "### Visualization of the 1st stage training history"
   ]
  },
  {
   "cell_type": "code",
   "execution_count": 12,
   "id": "5a0810a5",
   "metadata": {
    "execution": {
     "iopub.execute_input": "2023-03-13T08:27:33.577935Z",
     "iopub.status.busy": "2023-03-13T08:27:33.576924Z",
     "iopub.status.idle": "2023-03-13T08:28:03.884059Z",
     "shell.execute_reply": "2023-03-13T08:28:03.883067Z"
    },
    "papermill": {
     "duration": 31.129164,
     "end_time": "2023-03-13T08:28:04.325550",
     "exception": false,
     "start_time": "2023-03-13T08:27:33.196386",
     "status": "completed"
    },
    "tags": []
   },
   "outputs": [
    {
     "data": {
      "image/png": "[encoded data removed]",
      "text/plain": [
       "<Figure size 1500x400 with 2 Axes>"
      ]
     },
     "metadata": {},
     "output_type": "display_data"
    }
   ],
   "source": [
    "if not LOAD_BEST_MODEL_ST1_WEIGHTED_LOSS:\n",
    "    train_hist_1st = history.history\n",
    "    fig, (ax1, ax2) = plt.subplots(1, 2, figsize=(15, 4))\n",
    "    fig.suptitle('Training history (Stage 1)', fontsize=14, fontweight='bold')\n",
    "\n",
    "    ax1.plot(train_hist_1st['loss'])\n",
    "    ax1.plot(train_hist_1st['val_loss'])\n",
    "    ax1.set(xlabel='epoch', ylabel='Loss')\n",
    "    ax1.legend(['train', 'valid'], loc='upper right')\n",
    "\n",
    "    ax2.plot(train_hist_1st['mae'])\n",
    "    ax2.plot(train_hist_1st['val_mae'])\n",
    "    ax2.set(xlabel='epoch', ylabel='MAE')\n",
    "    ax2.legend(['train', 'valid'], loc='upper right')\n",
    "    plt.savefig(f'{_OUTPUT_PATH}/train_history_aug_1st_stage.png', dpi=150)"
   ]
  },
  {
   "cell_type": "markdown",
   "id": "97519cd8",
   "metadata": {
    "papermill": {
     "duration": 0.386587,
     "end_time": "2023-03-13T08:28:05.082059",
     "exception": false,
     "start_time": "2023-03-13T08:28:04.695472",
     "status": "completed"
    },
    "tags": []
   },
   "source": [
    "## Second stage\n",
    "\n",
    "#### The first stage output model has been already saved as ``best_model.h5``, the output model of this 2nd stage will be saved as ``best_model_2nd_stage_weighted.h5``"
   ]
  },
  {
   "cell_type": "code",
   "execution_count": 13,
   "id": "dd243e7d",
   "metadata": {
    "execution": {
     "iopub.execute_input": "2023-03-13T08:28:05.889880Z",
     "iopub.status.busy": "2023-03-13T08:28:05.888737Z",
     "iopub.status.idle": "2023-03-13T08:54:52.534442Z",
     "shell.execute_reply": "2023-03-13T08:54:52.533127Z"
    },
    "papermill": {
     "duration": 1607.023223,
     "end_time": "2023-03-13T08:54:52.537360",
     "exception": false,
     "start_time": "2023-03-13T08:28:05.514137",
     "status": "completed"
    },
    "tags": []
   },
   "outputs": [
    {
     "name": "stdout",
     "output_type": "stream",
     "text": [
      "Epoch 1/75\n",
      "255/255 [==============================] - 94s 345ms/step - loss: 0.0385 - mae: 0.1256 - val_loss: 0.0256 - val_mae: 0.1324\n",
      "Epoch 2/75\n",
      "255/255 [==============================] - 79s 311ms/step - loss: 0.0325 - mae: 0.1204 - val_loss: 0.0306 - val_mae: 0.1453\n",
      "Epoch 3/75\n",
      "255/255 [==============================] - 90s 353ms/step - loss: 0.0234 - mae: 0.1029 - val_loss: 0.0165 - val_mae: 0.0996\n",
      "Epoch 4/75\n",
      "255/255 [==============================] - 90s 351ms/step - loss: 0.0168 - mae: 0.0927 - val_loss: 0.0131 - val_mae: 0.0874\n",
      "Epoch 5/75\n",
      "255/255 [==============================] - 80s 312ms/step - loss: 0.0111 - mae: 0.0821 - val_loss: 0.0131 - val_mae: 0.0885\n",
      "Epoch 6/75\n",
      "255/255 [==============================] - 90s 353ms/step - loss: 0.0072 - mae: 0.0697 - val_loss: 0.0121 - val_mae: 0.0860\n",
      "Epoch 7/75\n",
      "255/255 [==============================] - 80s 313ms/step - loss: 0.0054 - mae: 0.0628 - val_loss: 0.0122 - val_mae: 0.0837\n",
      "Epoch 8/75\n",
      "255/255 [==============================] - 90s 353ms/step - loss: 0.0041 - mae: 0.0559 - val_loss: 0.0109 - val_mae: 0.0795\n",
      "Epoch 9/75\n",
      "255/255 [==============================] - 86s 336ms/step - loss: 0.0028 - mae: 0.0468 - val_loss: 0.0098 - val_mae: 0.0748\n",
      "Epoch 10/75\n",
      "255/255 [==============================] - 80s 315ms/step - loss: 0.0023 - mae: 0.0421 - val_loss: 0.0121 - val_mae: 0.0867\n",
      "Epoch 11/75\n",
      "255/255 [==============================] - 85s 334ms/step - loss: 0.0027 - mae: 0.0437 - val_loss: 0.0090 - val_mae: 0.0721\n",
      "Epoch 12/75\n",
      "255/255 [==============================] - 81s 316ms/step - loss: 0.0018 - mae: 0.0372 - val_loss: 0.0093 - val_mae: 0.0731\n",
      "Epoch 13/75\n",
      "255/255 [==============================] - 86s 337ms/step - loss: 0.0015 - mae: 0.0336 - val_loss: 0.0086 - val_mae: 0.0707\n",
      "Epoch 14/75\n",
      "255/255 [==============================] - 90s 354ms/step - loss: 0.0014 - mae: 0.0319 - val_loss: 0.0083 - val_mae: 0.0692\n",
      "Epoch 15/75\n",
      "255/255 [==============================] - 81s 316ms/step - loss: 0.0012 - mae: 0.0302 - val_loss: 0.0085 - val_mae: 0.0691\n",
      "Epoch 16/75\n",
      "255/255 [==============================] - 80s 315ms/step - loss: 0.0011 - mae: 0.0286 - val_loss: 0.0085 - val_mae: 0.0703\n",
      "Epoch 17/75\n",
      "255/255 [==============================] - 80s 315ms/step - loss: 0.0016 - mae: 0.0333 - val_loss: 0.0085 - val_mae: 0.0697\n",
      "Epoch 18/75\n",
      "255/255 [==============================] - 80s 315ms/step - loss: 0.0020 - mae: 0.0366 - val_loss: 0.0086 - val_mae: 0.0688\n",
      "Epoch 19/75\n",
      "255/255 [==============================] - 80s 315ms/step - loss: 0.0018 - mae: 0.0356 - val_loss: 0.0089 - val_mae: 0.0708\n",
      "Epoch 19: early stopping\n"
     ]
    }
   ],
   "source": [
    "if LOAD_BEST_MODEL_ST2_WEIGHTED_LOSS == True:\n",
    "    # downloading the trained model for the 2nd stage\n",
    "    !wget https://data.chalearnlap.cvc.uab.cat/Colab_2021/best_model_weighted.zip\n",
    "    # decompressing the data\n",
    "    with ZipFile('best_model_weighted.zip','r') as _zip:\n",
    "        _zip.extractall()\n",
    "    print('Model decompressed successfully')\n",
    "    # removing the .zip file after extraction  to clean space\n",
    "    !rm best_model_weighted.zip\n",
    "\n",
    "else:\n",
    "    # loading the saved model (best model learned at stage 1)\n",
    "    if RESUME_TRAINING == False:\n",
    "        saved_model = tf.keras.models.load_model(f'{_OUTPUT_PATH}/best_model.h5') # load model from stage 1\n",
    "    else:\n",
    "        # resume training (stage 2)\n",
    "        saved_model = tf.keras.models.load_model(f'{_OUTPUT_PATH}/best_model_2nd_stage_weighted.h5')\n",
    "    \n",
    "    # setting all layers to traineable\n",
    "    saved_model.trainable = True\n",
    "\n",
    "    #=================================================\n",
    "    # training all layers (2nd stage), given the model saved on stage 1\n",
    "    saved_model.compile(tf.keras.optimizers.Adam(learning_rate=LEARNING_RATE_ST2),loss=tf.keras.losses.MeanSquaredError(),metrics=['mae'])\n",
    "    #=================================================\n",
    "\n",
    "    # defining the early stop criteria\n",
    "    es = tf.keras.callbacks.EarlyStopping(monitor='val_loss', mode='min', verbose=1, patience=5)\n",
    "    mc = tf.keras.callbacks.ModelCheckpoint(f'{_OUTPUT_PATH}/best_model_2nd_stage_weighted.h5', monitor='val_loss', mode='min', save_best_only=True)\n",
    "\n",
    "    if(RESUME_TRAINING == False):  \n",
    "        history = saved_model.fit(X_train, Y_train, sample_weight=sample_weights, validation_data=(X_valid, Y_valid), batch_size=16, epochs=NUM_EPOCHS, initial_epoch=0, shuffle=True, verbose=1, callbacks=[es, mc])\n",
    "    else:\n",
    "        history = saved_model.fit(X_train, Y_train, sample_weight=sample_weights, validation_data=(X_valid, Y_valid), batch_size=16, epochs=NUM_EPOCHS, initial_epoch=RESUME_FROM_EPOCH, shuffle=True, verbose=1, callbacks=[es, mc])"
   ]
  },
  {
   "cell_type": "markdown",
   "id": "251103b3",
   "metadata": {
    "papermill": {
     "duration": 0.683835,
     "end_time": "2023-03-13T08:54:53.856524",
     "exception": false,
     "start_time": "2023-03-13T08:54:53.172689",
     "status": "completed"
    },
    "tags": []
   },
   "source": [
    "### Visualization of the 2nd training stage history"
   ]
  },
  {
   "cell_type": "code",
   "execution_count": 14,
   "id": "243fa892",
   "metadata": {
    "execution": {
     "iopub.execute_input": "2023-03-13T08:54:55.111715Z",
     "iopub.status.busy": "2023-03-13T08:54:55.110982Z",
     "iopub.status.idle": "2023-03-13T08:55:33.928266Z",
     "shell.execute_reply": "2023-03-13T08:55:33.927238Z"
    },
    "papermill": {
     "duration": 40.12981,
     "end_time": "2023-03-13T08:55:34.613249",
     "exception": false,
     "start_time": "2023-03-13T08:54:54.483439",
     "status": "completed"
    },
    "tags": []
   },
   "outputs": [
    {
     "data": {
      "image/png": "[encoded data removed]",
      "text/plain": [
       "<Figure size 1500x400 with 2 Axes>"
      ]
     },
     "metadata": {},
     "output_type": "display_data"
    }
   ],
   "source": [
    "try:\n",
    "    if LOAD_BEST_MODEL_ST2_WEIGHTED_LOSS == True:\n",
    "        train_hist_2nd = pickle.load(open(f\"{_OUTPUT_PATH}/train_history_2nd_stage.pkl\",\"rb\"))\n",
    "    else:\n",
    "        train_hist_2nd = history.history\n",
    "        with open(f'{_OUTPUT_PATH}/train_history_2nd_stage.pkl', 'wb') as handle:\n",
    "            pickle.dump(history.history, handle, protocol=pickle.HIGHEST_PROTOCOL)\n",
    "        \n",
    "    fig, (ax1, ax2) = plt.subplots(1, 2, figsize=(15, 4))\n",
    "    fig.suptitle('Training history (Stage 2)', fontsize=14, fontweight='bold')\n",
    "\n",
    "    ax1.plot(train_hist_2nd['loss'])\n",
    "    ax1.plot(train_hist_2nd['val_loss'])\n",
    "    ax1.set(xlabel='epoch', ylabel='Loss')\n",
    "    ax1.legend(['train', 'valid'], loc='upper right')\n",
    "\n",
    "    ax2.plot(train_hist_2nd['mae'])\n",
    "    ax2.plot(train_hist_2nd['val_mae'])\n",
    "    ax2.set(xlabel='epoch', ylabel='MAE')\n",
    "    ax2.legend(['train', 'valid'], loc='upper right')\n",
    "    plt.savefig(f'{_OUTPUT_PATH}/train_history_aug_better_training.png', dpi=150)\n",
    "except ValueError as error:\n",
    "    _msg: str = \"There is an incompatibility problem with the pickle version used to serialize the train_history.pkl!\"\n",
    "    print(_msg)\n",
    "    # raise ValueError(_msg) from error\n",
    "    \n",
    "    train_hist_2nd = history.history\n",
    "        \n",
    "    fig, (ax1, ax2) = plt.subplots(1, 2, figsize=(15, 4))\n",
    "    fig.suptitle('Training history (Stage 1 and Stage 2)', fontsize=14, fontweight='bold')\n",
    "\n",
    "    ax1.plot(train_hist_2nd['loss'])\n",
    "    ax1.plot(train_hist_2nd['val_loss'])\n",
    "    ax1.set(xlabel='epoch', ylabel='Loss')\n",
    "    ax1.legend(['train', 'valid'], loc='upper right')\n",
    "\n",
    "    ax2.plot(train_hist_2nd['mae'])\n",
    "    ax2.plot(train_hist_2nd['val_mae'])\n",
    "    ax2.set(xlabel='epoch', ylabel='MAE')\n",
    "    ax2.legend(['train', 'valid'], loc='upper right')\n",
    "    plt.savefig(f'{_OUTPUT_PATH}/train_history_aug_better_training.png', dpi=150)\n",
    "except FileNotFoundError:\n",
    "    print(\"The training history for the 2nd stage could not be retrieved\")"
   ]
  },
  {
   "cell_type": "markdown",
   "id": "7af061bb",
   "metadata": {
    "id": "D7kqieNu7zDS",
    "papermill": {
     "duration": 0.686486,
     "end_time": "2023-03-13T08:55:35.930424",
     "exception": false,
     "start_time": "2023-03-13T08:55:35.243938",
     "status": "completed"
    },
    "tags": []
   },
   "source": [
    "# Making predictions on the Validation set and Evaluating\n",
    "if not SKIP_NEW_CELLS:- Note that in this case, the model obtained MAE = 11.32504168, which is not the best score compared to the ones obtained before. However, are the evaluated biases better? Let's see!"
   ]
  },
  {
   "cell_type": "markdown",
   "id": "915c4622",
   "metadata": {
    "papermill": {
     "duration": 0.690224,
     "end_time": "2023-03-13T08:55:37.238137",
     "exception": false,
     "start_time": "2023-03-13T08:55:36.547913",
     "status": "completed"
    },
    "tags": []
   },
   "source": [
    "## Predicting"
   ]
  },
  {
   "cell_type": "code",
   "execution_count": 15,
   "id": "7d8d7445",
   "metadata": {
    "execution": {
     "iopub.execute_input": "2023-03-13T08:55:38.503690Z",
     "iopub.status.busy": "2023-03-13T08:55:38.502972Z",
     "iopub.status.idle": "2023-03-13T08:55:55.728188Z",
     "shell.execute_reply": "2023-03-13T08:55:55.727142Z"
    },
    "id": "OYq1tCet70bN",
    "papermill": {
     "duration": 17.867812,
     "end_time": "2023-03-13T08:55:55.730777",
     "exception": false,
     "start_time": "2023-03-13T08:55:37.862965",
     "status": "completed"
    },
    "tags": []
   },
   "outputs": [
    {
     "name": "stdout",
     "output_type": "stream",
     "text": [
      "47/47 [==============================] - 8s 173ms/step\n"
     ]
    }
   ],
   "source": [
    "saved_model_2nd_weighted = tf.keras.models.load_model(f'{_OUTPUT_PATH}/best_model_2nd_stage_weighted.h5')\n",
    "# predict on the test data\n",
    "predictions_st2_weighted = saved_model_2nd_weighted.predict(X_valid, batch_size=32, verbose=1)\n",
    "# re-scaling the output predictions (from [0,1] to age range) using the\n",
    "# the normalization factor mentioned before\n",
    "predictions_st2_weighted_final = predictions_st2_weighted * 100"
   ]
  },
  {
   "cell_type": "markdown",
   "id": "1cce6a92",
   "metadata": {
    "papermill": {
     "duration": 0.623917,
     "end_time": "2023-03-13T08:55:57.046602",
     "exception": false,
     "start_time": "2023-03-13T08:55:56.422685",
     "status": "completed"
    },
    "tags": []
   },
   "source": [
    "## Evaluating and comparing the 2nd stage of training on validation set: \n",
    "**case a)** without augmentation/custom loss *vs.* **case b)** without augmentation but with custom loss."
   ]
  },
  {
   "cell_type": "code",
   "execution_count": 16,
   "id": "87f440fb",
   "metadata": {
    "execution": {
     "iopub.execute_input": "2023-03-13T08:55:58.366847Z",
     "iopub.status.busy": "2023-03-13T08:55:58.366114Z",
     "iopub.status.idle": "2023-03-13T08:56:00.175726Z",
     "shell.execute_reply": "2023-03-13T08:56:00.174534Z"
    },
    "papermill": {
     "duration": 2.444466,
     "end_time": "2023-03-13T08:56:00.178971",
     "exception": false,
     "start_time": "2023-03-13T08:55:57.734505",
     "status": "completed"
    },
    "tags": []
   },
   "outputs": [
    {
     "name": "stdout",
     "output_type": "stream",
     "text": [
      "--2023-03-13 08:55:59--  http://data.chalearnlap.cvc.uab.cat/Colab_2021/bias_functions.py\r\n",
      "Resolving data.chalearnlap.cvc.uab.cat (data.chalearnlap.cvc.uab.cat)... 158.109.8.102\r\n",
      "Connecting to data.chalearnlap.cvc.uab.cat (data.chalearnlap.cvc.uab.cat)|158.109.8.102|:80... connected.\r\n",
      "HTTP request sent, awaiting response... 200 OK\r\n",
      "Length: 4355 (4.3K) [application/octet-stream]\r\n",
      "Saving to: ‘bias_functions.py’\r\n",
      "\r\n",
      "bias_functions.py   100%[===================>]   4.25K  --.-KB/s    in 0s      \r\n",
      "\r\n",
      "2023-03-13 08:56:00 (319 MB/s) - ‘bias_functions.py’ saved [4355/4355]\r\n",
      "\r\n"
     ]
    }
   ],
   "source": [
    "if not os.path.isfile(f'{_OUTPUT_PATH}/bias_functions.py'):\n",
    "    !wget http://data.chalearnlap.cvc.uab.cat/Colab_2021/bias_functions.py\n",
    "\n",
    "# importing the functions used to evaluate the different biases\n",
    "from bias_functions import age_bias, gender_bias, ethnicity_bias, face_expression_bias"
   ]
  },
  {
   "cell_type": "code",
   "execution_count": 17,
   "id": "74071583",
   "metadata": {
    "execution": {
     "iopub.execute_input": "2023-03-13T08:56:01.552153Z",
     "iopub.status.busy": "2023-03-13T08:56:01.551736Z",
     "iopub.status.idle": "2023-03-13T08:56:01.599426Z",
     "shell.execute_reply": "2023-03-13T08:56:01.597538Z"
    },
    "id": "YjrDG9AHLoPf",
    "papermill": {
     "duration": 0.67917,
     "end_time": "2023-03-13T08:56:01.601782",
     "exception": false,
     "start_time": "2023-03-13T08:56:00.922612",
     "status": "completed"
    },
    "tags": []
   },
   "outputs": [
    {
     "name": "stdout",
     "output_type": "stream",
     "text": [
      "MAE (Validation) = 6.92060249\n",
      "=============================\n",
      "Age analysis:\n",
      "Size group 1 = 305, MAE = 8.305459\n",
      "Size group 2 = 841, MAE = 5.728799\n",
      "Size group 3 = 275, MAE = 7.802992\n",
      "Size group 4 = 61, MAE = 12.449599\n",
      "---------\n",
      "Age bias (Ba) =  3.4441445668538413\n",
      "=============================\n",
      "Gender analysis:\n",
      "Size group female = 716, MAE = 6.811499\n",
      "Size group male = 766, MAE = 7.022585\n",
      "---------\n",
      "Gender bias (Bg) =  0.21108627\n",
      "=============================\n",
      "Ethnicity Analysis:\n",
      "Size group asian = 116, MAE = 6.397519\n",
      "Size group afroamerican = 50, MAE = 5.825934\n",
      "Size group caucasian = 1316, MAE = 7.008301\n",
      "---------\n",
      "Ethnicity bias (Be) =  0.7882445653279623\n",
      "=============================\n",
      "Face experession Analysis:\n",
      "Size group happy = 403, MAE = 7.095481\n",
      "Size group slightlyhappy = 476, MAE = 6.874053\n",
      "Size group neutral = 492, MAE = 6.615034\n",
      "Size group other = 111, MAE = 7.839714\n",
      "---------\n",
      "Face Expression bias (Bf) =  0.6492445468902588\n"
     ]
    }
   ],
   "source": [
    "# Evaluating MAE on Validation data\n",
    "error = []\n",
    "for i in range(0,len(Y_valid)):\n",
    "    error.append(abs(np.subtract(predictions_st2_weighted_final[i][0],Y_valid[i]*100)))\n",
    "print('MAE (Validation) = %.8f' %(np.mean(error)))\n",
    "\n",
    "# printing some predictions\n",
    "# for i in range(0,20):\n",
    "#     print('predicted age = %.3f - Ground truth = %.3f' %(predictions_st2_weighted_final[i], Y_valid[i]*100))\n",
    "\n",
    "# Evaluating biases on Validation data\n",
    "age_bias(predictions_st2_weighted_final,Y_valid * 100)\n",
    "gender_bias(predictions_st2_weighted_final,Y_valid * 100, M_valid)\n",
    "ethnicity_bias(predictions_st2_weighted_final,Y_valid * 100, M_valid)\n",
    "face_expression_bias(predictions_st2_weighted_final,Y_valid * 100,M_valid)"
   ]
  },
  {
   "cell_type": "markdown",
   "id": "d67db313",
   "metadata": {
    "id": "F-sTrrsB4oR6",
    "papermill": {
     "duration": 0.700328,
     "end_time": "2023-03-13T08:56:02.955678",
     "exception": false,
     "start_time": "2023-03-13T08:56:02.255350",
     "status": "completed"
    },
    "tags": []
   },
   "source": [
    "## Saving the predictions **on the test set** as a predictions.zip "
   ]
  },
  {
   "cell_type": "code",
   "execution_count": 18,
   "id": "c0dc904a",
   "metadata": {
    "execution": {
     "iopub.execute_input": "2023-03-13T08:56:04.315050Z",
     "iopub.status.busy": "2023-03-13T08:56:04.314691Z",
     "iopub.status.idle": "2023-03-13T08:56:28.141663Z",
     "shell.execute_reply": "2023-03-13T08:56:28.140315Z"
    },
    "id": "hRuk9RDOqb2w",
    "papermill": {
     "duration": 24.533738,
     "end_time": "2023-03-13T08:56:28.144301",
     "exception": false,
     "start_time": "2023-03-13T08:56:03.610563",
     "status": "completed"
    },
    "tags": []
   },
   "outputs": [
    {
     "name": "stdout",
     "output_type": "stream",
     "text": [
      "62/62 [==============================] - 14s 219ms/step\n",
      "  adding: predictions.csv (deflated 55%)\r\n"
     ]
    }
   ],
   "source": [
    "# custom loss /task 2\n",
    "saved_model_2nd_weighted = tf.keras.models.load_model(f'{_OUTPUT_PATH}/best_model_2nd_stage_weighted.h5')\n",
    "predictions_st2_custom_loss_test = saved_model_2nd_weighted.predict(X_test, batch_size=32, verbose=1)\n",
    "predictions_st2_custom_loss_test_f = predictions_st2_custom_loss_test*100\n",
    "\n",
    "# # predictions_st2_custom_loss_test_f = predictions_st2_weighted_final\n",
    "\n",
    "# saving the predictions as a csv file\n",
    "with open('predictions.csv', 'w') as csvFile:\n",
    "    writer = csv.writer(csvFile)\n",
    "    writer.writerows(predictions_st2_custom_loss_test_f)\n",
    "csvFile.close()\n",
    "# compressing the csv file (to be submitted to codalab as prediction)\n",
    "! zip experiment6.zip predictions.csv"
   ]
  },
  {
   "cell_type": "code",
   "execution_count": null,
   "id": "e9ff7134",
   "metadata": {
    "papermill": {
     "duration": 0.69684,
     "end_time": "2023-03-13T08:56:29.475843",
     "exception": false,
     "start_time": "2023-03-13T08:56:28.779003",
     "status": "completed"
    },
    "tags": []
   },
   "outputs": [],
   "source": []
  }
 ],
 "metadata": {
  "kernelspec": {
   "display_name": "Python 3",
   "language": "python",
   "name": "python3"
  },
  "language_info": {
   "codemirror_mode": {
    "name": "ipython",
    "version": 3
   },
   "file_extension": ".py",
   "mimetype": "text/x-python",
   "name": "python",
   "nbconvert_exporter": "python",
   "pygments_lexer": "ipython3",
   "version": "3.7.12"
  },
  "papermill": {
   "default_parameters": {},
   "duration": 3585.098465,
   "end_time": "2023-03-13T08:56:33.147666",
   "environment_variables": {},
   "exception": null,
   "input_path": "__notebook__.ipynb",
   "output_path": "__notebook__.ipynb",
   "parameters": {},
   "start_time": "2023-03-13T07:56:48.049201",
   "version": "2.4.0"
  }
 },
 "nbformat": 4,
 "nbformat_minor": 5
}
